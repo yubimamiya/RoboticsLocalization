{
  "nbformat": 4,
  "nbformat_minor": 0,
  "metadata": {
    "colab": {
      "provenance": []
    },
    "kernelspec": {
      "name": "python3",
      "display_name": "Python 3"
    },
    "language_info": {
      "name": "python"
    }
  },
  "cells": [
    {
      "cell_type": "markdown",
      "source": [
        "This will create a new folder of an expanded dataset which augments the images from the original dataset."
      ],
      "metadata": {
        "id": "ncTGRplBrClg"
      }
    },
    {
      "cell_type": "code",
      "source": [
        "import os\n",
        "os.environ['TF_CPP_MIN_LOG_LEVEL'] = '3' # suppress Tensorflow messages\n",
        "from keras.preprocessing.image import ImageDataGenerator\n",
        "import cv2\n",
        "import numpy as np"
      ],
      "metadata": {
        "id": "N41403pnCbvS"
      },
      "execution_count": null,
      "outputs": []
    },
    {
      "cell_type": "code",
      "source": [
        "# set path to folder with images\n",
        "image_folder = 'data_img'\n",
        "print(f'my images: {os.listdir(image_folder)}')"
      ],
      "metadata": {
        "id": "Fu0qvVlGCqpJ"
      },
      "execution_count": null,
      "outputs": []
    },
    {
      "cell_type": "code",
      "source": [
        "# set path to folder for augmented images\n",
        "aug_image_folder = 'aug_data_img'\n",
        "os.makedirs(aug_image_folder,exist_ok=True)"
      ],
      "metadata": {
        "id": "twxBi_6fCyjO"
      },
      "execution_count": null,
      "outputs": []
    },
    {
      "cell_type": "code",
      "source": [
        "# function add random noise to an image\n",
        "def add_noise(img):\n",
        "    img_noise = random_noise(img, mode = 's&p', clip=True)\n",
        "    return img"
      ],
      "metadata": {
        "id": "LelMGGAqq6pi"
      },
      "execution_count": null,
      "outputs": []
    },
    {
      "cell_type": "code",
      "source": [
        "# define augmentations\n",
        "datagen = ImageDataGenerator(\n",
        "    featurewise_center=False,\n",
        "    samplewise_center=False,\n",
        "    featurewise_std_normalization=False,\n",
        "    samplewise_std_normalization=False,\n",
        "    zca_whitening=False,\n",
        "    zca_epsilon=1e-06,\n",
        "    # rotate slightly\n",
        "    rotation_range=20,\n",
        "    width_shift_range=0.0,\n",
        "    height_shift_range=0.0,\n",
        "    # deviate brightness with 0.5 from original\n",
        "    brightness_range=[0.4,1.5],\n",
        "    shear_range=0.0,\n",
        "    zoom_range=0.0,\n",
        "    channel_shift_range=0.0,\n",
        "    fill_mode='nearest',\n",
        "    cval=0.0,\n",
        "    horizontal_flip=False,\n",
        "    vertical_flip=False,\n",
        "    rescale=None,\n",
        "    # add function for introducing random noise\n",
        "    preprocessing_function=add_noise,\n",
        "    data_format=None,\n",
        "    validation_split=0.0,\n",
        "    interpolation_order=1,\n",
        "    dtype=None)"
      ],
      "metadata": {
        "id": "QmjiI9-zD9ip"
      },
      "execution_count": null,
      "outputs": []
    },
    {
      "cell_type": "code",
      "execution_count": null,
      "metadata": {
        "id": "ElU_jayCCR0W"
      },
      "outputs": [],
      "source": [
        "# iterate over the image folder\n",
        "image_names = os.listdir(image_folder)\n",
        "\n",
        "for image_name in image_names:\n",
        "    # flag 1 means we are reading the image in color\n",
        "    img = cv2.imread(f'{image_folder}/{image_name}',1)\n",
        "\n",
        "    # get 10 augmented images\n",
        "    for i in range(10):\n",
        "      aug_img_iterator = aug.flow(x=np.expand_dims(img,0),batch_size=1)\n",
        "      aug_img=next(aug_img_iterator)\n",
        "      # save the augmented image\n",
        "      aug_img_name = image_name + str(i)\n",
        "      # this will rename all images to its original name and an added suffix from 0 to 9\n",
        "      cv2.imwrite(f'{aug_image_folder}/{image_name}',aug_img[0,:,:,:])\n",
        "\n",
        "# check augmented images\n",
        "print(f'aug images: {os.listdir(aug_image_folder)}')"
      ]
    }
  ]
}